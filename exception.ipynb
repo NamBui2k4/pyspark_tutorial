{
 "cells": [
  {
   "cell_type": "markdown",
   "metadata": {},
   "source": [
    "# Handle exception in Pyspark 🛠️"
   ]
  },
  {
   "cell_type": "markdown",
   "metadata": {},
   "source": [
    "**Lời nói đầu:**\n",
    "\n",
    "🔹 Khi làm việc với pyspark cho tác vụ xử lý dữ liệu lớn, mình đã gặp không ít lỗi về phần cài đặt cũng như cấu hình framework, nhất là khi làm trên local machine, (remote thì khỏi nói, nó support tận răng, chẳng hạn như colab 🙄). Đây là sẽ tutorial đúc kết ra nhiều kinh nghiệm xử lý lỗi sau nhiều ngày vật lộn với cái pyspark này.\n",
    "\n",
    "🔹 Lỗi (error) và ngoại lệ (exception) trong PySpark rất dài. Làm việc với PySpark giống như kiểu bạn phải làm việc với combo Python error + exception Java vậy, mà phần lớn lại liên quan tới spark session và spark context ( mò lâu lắm mới tìm ra được nguyên nhân 🥴 )."
   ]
  },
  {
   "cell_type": "markdown",
   "metadata": {},
   "source": [
    "## Case List 📇📇📇"
   ]
  },
  {
   "cell_type": "markdown",
   "metadata": {},
   "source": [
    "Dưới đây là một vài tình huống mà mình gặp phải (đúng hơn là tự tạo ra 😢) khi làm việc với pyspark"
   ]
  },
  {
   "cell_type": "markdown",
   "metadata": {},
   "source": [
    "**🔴 Tùy ý stop và khởi tạo lại session và context**\n",
    "\n",
    "Xét mã nguồn bên dưới:"
   ]
  },
  {
   "cell_type": "code",
   "execution_count": null,
   "metadata": {},
   "outputs": [
    {
     "data": {
      "text/plain": [
       "['Scalar',\n",
       " 'java',\n",
       " 'hadoop',\n",
       " 'spark',\n",
       " 'akka',\n",
       " 'spark and hadoop',\n",
       " 'pyspark',\n",
       " 'pyspark and spark']"
      ]
     },
     "execution_count": 1,
     "metadata": {},
     "output_type": "execute_result"
    }
   ],
   "source": [
    "from pyspark.sql import SparkSession\n",
    "\n",
    "# Khởi tạo một session\n",
    "spark = SparkSession.builder \\\n",
    "    .appName(\"Datacamp Pyspark Tutorial\") \\\n",
    "    .config(\"spark.memory.offHeap.enabled\",\"true\") \\\n",
    "    .config(\"spark.memory.offHeap.size\",\"5g\").getOrCreate()\n",
    "\n",
    "# Lấy Context từ session\n",
    "sc = spark.sparkContext\n",
    "\n",
    "# tạo một rdd\n",
    "rdd_words = sc.parallelize(\n",
    "    [\n",
    "    'Scalar',\n",
    "    'java',\n",
    "    'hadoop',\n",
    "    'spark',\n",
    "    'akka',\n",
    "    'spark and hadoop',\n",
    "    'pyspark',\n",
    "    'pyspark and spark'\n",
    "    ]\n",
    ")\n",
    "\n",
    "# show kết quả\n",
    "rdd_words.collect()\n"
   ]
  },
  {
   "cell_type": "markdown",
   "metadata": {},
   "source": [
    "Mọi thứ diễn ra khá bình thường. Bây giờ mình sẽ thử stop context và khởi tạo lại một cái mới."
   ]
  },
  {
   "cell_type": "markdown",
   "metadata": {},
   "source": []
  }
 ],
 "metadata": {
  "kernelspec": {
   "display_name": "py3_9",
   "language": "python",
   "name": "python3"
  },
  "language_info": {
   "codemirror_mode": {
    "name": "ipython",
    "version": 3
   },
   "file_extension": ".py",
   "mimetype": "text/x-python",
   "name": "python",
   "nbconvert_exporter": "python",
   "pygments_lexer": "ipython3",
   "version": "3.9.21"
  }
 },
 "nbformat": 4,
 "nbformat_minor": 2
}
