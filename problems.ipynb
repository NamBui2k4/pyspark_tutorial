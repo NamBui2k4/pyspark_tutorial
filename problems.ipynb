{
 "cells": [
  {
   "cell_type": "markdown",
   "metadata": {},
   "source": [
    "# Problems in pyspark 📝🔍"
   ]
  },
  {
   "cell_type": "markdown",
   "metadata": {},
   "source": [
    "PySpark là một công cụ mạnh mẽ để xử lý các bài toán dữ liệu lớn. Sau đây là một vài bài toán kinh điển:\n",
    "\n",
    "- wordcount\n",
    "- ASEAN countries count"
   ]
  },
  {
   "cell_type": "markdown",
   "metadata": {},
   "source": [
    "## WordCount 📊"
   ]
  },
  {
   "cell_type": "markdown",
   "metadata": {},
   "source": [
    "Cho một chuỗi, yêu cầu đếm từng ký tự trong chuỗi đó."
   ]
  },
  {
   "cell_type": "markdown",
   "metadata": {},
   "source": [
    "Solution:"
   ]
  },
  {
   "cell_type": "code",
   "execution_count": 28,
   "metadata": {},
   "outputs": [
    {
     "data": {
      "text/plain": [
       "[('Apache', 2),\n",
       " ('implicit', 1),\n",
       " ('developed', 1),\n",
       " ('of', 1),\n",
       " ('codebase', 1),\n",
       " ('and', 1),\n",
       " ('later', 1),\n",
       " ('to', 1),\n",
       " ('Software', 1),\n",
       " ('has', 1),\n",
       " ('open-source', 1),\n",
       " ('unified', 1),\n",
       " ('clusters', 1),\n",
       " ('at', 1),\n",
       " ('University', 1),\n",
       " (\"Berkeley's\", 1),\n",
       " ('for', 2),\n",
       " ('processing.', 1),\n",
       " ('with', 1),\n",
       " ('California,', 1),\n",
       " ('it', 1),\n",
       " ('since.', 1),\n",
       " ('analytics', 1),\n",
       " ('engine', 1),\n",
       " ('fault', 1),\n",
       " ('large-scale', 1),\n",
       " ('parallelism', 1),\n",
       " ('tolerance.', 1),\n",
       " ('maintained', 1),\n",
       " ('Spark', 3),\n",
       " ('programming', 1),\n",
       " ('data', 2),\n",
       " ('Originally', 1),\n",
       " ('donated', 1),\n",
       " ('Foundation,', 1),\n",
       " ('an', 2),\n",
       " ('provides', 1),\n",
       " ('was', 1),\n",
       " ('the', 3),\n",
       " ('which', 1),\n",
       " ('is', 1),\n",
       " ('AMPLab,', 1),\n",
       " ('interface', 1)]"
      ]
     },
     "execution_count": 28,
     "metadata": {},
     "output_type": "execute_result"
    }
   ],
   "source": [
    "doc = \"Apache Spark is an open-source unified analytics engine for large-scale data processing. Spark provides an interface for programming clusters with implicit data parallelism and fault tolerance. Originally developed at the University of California, Berkeley's AMPLab, the Spark codebase was later donated to the Apache Software Foundation, which has maintained it since.\"\n",
    "\n",
    "result = sc.parallelize([doc]) \\\n",
    "    .flatMap(lambda x : x.split(\" \")) \\\n",
    "    .map(lambda x: (x, 1)) \\\n",
    "    .reduceByKey(lambda x, y : x + y) \\\n",
    "    .collect()\n",
    "result"
   ]
  },
  {
   "cell_type": "markdown",
   "metadata": {},
   "source": [
    "Giải thích chi tiết:\n",
    "\n",
    "- `sc.parallelize` sẽ bao bọc `doc` trong `list`, đảm bảo rằng RDD có một phần tử là toàn bộ chuỗi.\n",
    "- áp dụng `flatMap` lên chuỗi đó, đi kèm `split` để tách thành một `list` các từ, sau đó “làm phẳng” `list` này thành một RDD chứa các từ.\n",
    "  \n",
    "  Ví dụ, khi chạy thì kết quả sẽ là: \n",
    "  ```python\n",
    "  [\"Apache\", \"Spark\", \"is\", \"an\", \"open-source\", \"unified\", \"analytics\", \"engine\", \"for\", \"large-scale\", \"data\", \"processing.\", \"Spark\", \"provides\", \"an\", \"interface\", \"for\", \"programming\", \"clusters\", \"with\", \"implicit\", \"data\", \"parallelism\", \"and\", \"fault\", \"tolerance.\"]\n",
    "  ```\n",
    "\n",
    "\n",
    "- `map` chuyển đổi mỗi từ trong RDD thành một tuple có định dạng `word, count)`\n",
    "\n",
    "    Ví dụ:\n",
    "\n",
    "    ```python\n",
    "    [(\"Apache\", 1), (\"Spark\", 1), (\"is\", 1), (\"an\", 1),\n",
    "    (\"open-source\", 1), (\"unified\", 1), (\"analytics\", 1), \n",
    "    (\"engine\", 1), (\"for\", 1), (\"large-scale\", 1), (\"data\", 1), \n",
    "    (\"processing.\", 1), (\"Spark\", 1), (\"provides\", 1), \n",
    "    (\"an\", 1), (\"interface\", 1), (\"for\", 1), (\"programming\", 1),\n",
    "    (\"clusters\", 1), (\"with\", 1), (\"implicit\", 1), (\"data\", 1),\n",
    "    (\"parallelism\", 1), (\"and\", 1), (\"fault\", 1), (\"tolerance.\", 1)]\n",
    "\n",
    "    ```\n",
    "- Sau đó, `reduceByKey` nhóm các tuple theo key word và áp dụng hàm lambda để cộng dồn count lại cho mỗi từ\n",
    "\n",
    "    Quá trình xử lý như sau:\n",
    "\n",
    "    + Nhóm lại:\n",
    "    \n",
    "        ```python\n",
    "        {\n",
    "        \"Spark\": [1, 1],\n",
    "        \"is\": [1, 1],\n",
    "        \"an\": [1, 1],\n",
    "        \"open-source\": [1]\n",
    "        ....................\n",
    "        }\n",
    "        ```\n",
    "    + Áp dụng hàm lambda x, y: x + y cho mỗi nhóm:\n",
    "    \n",
    "        ```python\n",
    "        \"Spark\": 1 + 1 = 2\n",
    "        \"is\": 1 + 1 = 2\n",
    "        \"an\": 1 + 1 = 2\n",
    "        \"open-source\": 1 (không thay đổi vì chỉ có một phần tử)\n",
    "        ......................\n",
    "        ```\n",
    "\n",
    "Kết quả là chúng ta có tần xuất với từng từ.\n",
    "\n",
    "Đặt vấn đề: Ở bước reduce, ta thấy một vài word có count = 1 và xuất hiện 2 lần nên ta hiểu rằng x + y chính là 1 + 1. Bởi vì 2 chính là số lượng phần tử cùng key. Vậy thì nếu số lượng này lớn hơn 2 thì sao ? Chẳng hạn như:\n",
    "\n",
    "```python\n",
    "{\n",
    "    \"Spark\": [1, 1, 1],\n",
    "    \"is\": [1, 1],\n",
    "    \"an\": [1, 1]\n",
    "}\n",
    "```\n",
    "Nếu số lượng phần tử cùng key lớn hơn 2, PySpark sẽ tự động áp dụng phép toán nhiều lần để gộp tất cả giá trị về một kết quả duy nhất.\n",
    "\n",
    "Như vậy, việc áp dụng lambda x, y: x + y cho từng nhóm sẽ được hình dung như sau:\n",
    "\n",
    "```python\n",
    "\"Spark\":\n",
    "    1 + 1 = 2\n",
    "    2 + 1 = 3\n",
    "\n",
    "\"is\": \n",
    "    1 + 1 = 2\n",
    "    \n",
    "\"an\":\n",
    "    1 + 1 = 2\n",
    "```\n",
    "\n",
    "Kết quả cuối cùng: ```[(\"Spark\", 3), (\"is\", 2), (\"an\", 2)]```"
   ]
  },
  {
   "cell_type": "markdown",
   "metadata": {},
   "source": [
    "## ASEAN countries count 📊"
   ]
  },
  {
   "cell_type": "markdown",
   "metadata": {},
   "source": [
    "Cho một file dữ liệu `WHO-COVID-19-20210601-213841.tsv` chứa các trường sau:\n",
    "- Name \n",
    "- WHO Region \n",
    "- Cases - cumulative total \n",
    "- Cases - cumulative total per 100000 population \n",
    "- Cases - newly reported in last 7 days \n",
    "- Cases - newly reported in last 7 days per 100000 population \n",
    "- Cases - newly reported in last 24 hours \n",
    "- Deaths - cumulative total \n",
    "- Deaths - cumulative total per 100000 population \n",
    "- Deaths - newly reported in last 7 days \n",
    "- Deaths - newly reported in last 7 days per 100000 population \n",
    "- Deaths - newly reported in last 24 hours \n",
    "- Transmission Classification\n",
    "\n",
    "Biết rằng cột `Cases - cumulative total` cho ta biết tổng số ca mắc covid của từng quốc gia ở một số khu vực \n",
    "\n",
    "Dựa vào cột `Cases - cumulative total` , yêu cầu: \n",
    "- Đếm xem có bao nhiêu quốc gia ở khu vực Châu Á bị nhiễm Covid\n",
    "- Chỉ ra quốc gia có tổng số ca lớn nhất ở khu vực này\n",
    "- Lấy ra 3 quốc gia có tổng số ca nhỏ nhất"
   ]
  },
  {
   "cell_type": "code",
   "execution_count": 9,
   "metadata": {},
   "outputs": [
    {
     "name": "stderr",
     "output_type": "stream",
     "text": [
      "c:\\Users\\nam\\anaconda3\\envs\\py3_9\\lib\\site-packages\\pyspark\\sql\\context.py:113: FutureWarning: Deprecated in 3.0.0. Use SparkSession.builder.getOrCreate() instead.\n",
      "  warnings.warn(\n"
     ]
    }
   ],
   "source": [
    "import pyspark\n",
    "from pyspark.sql import SparkSession\n",
    "from pyspark.sql import SQLContext\n",
    "\n",
    "spark = SparkSession.builder.appName(\"Spark Asean count\").getOrCreate()\n",
    "sc = spark.sparkContext\n",
    "sqlc = SQLContext(sc)"
   ]
  },
  {
   "cell_type": "code",
   "execution_count": 29,
   "metadata": {},
   "outputs": [],
   "source": [
    "df = sqlc.read.csv(\"WHO-COVID-19-20210601-213841.tsv\",\n",
    "                   header=True,\n",
    "                   sep=\"\\t\")"
   ]
  },
  {
   "cell_type": "code",
   "execution_count": 11,
   "metadata": {},
   "outputs": [
    {
     "data": {
      "text/plain": [
       "11"
      ]
     },
     "execution_count": 11,
     "metadata": {},
     "output_type": "execute_result"
    }
   ],
   "source": [
    "asianCount = df.where(df['WHO Region'] == 'South-East Asia') \\\n",
    "    .select(\"Cases - cumulative total\") \\\n",
    "    .rdd.count()\n",
    "     \n",
    "asianCount"
   ]
  },
  {
   "cell_type": "code",
   "execution_count": 12,
   "metadata": {},
   "outputs": [
    {
     "data": {
      "text/plain": [
       "Row(Cases - cumulative total='800,540.000')"
      ]
     },
     "execution_count": 12,
     "metadata": {},
     "output_type": "execute_result"
    }
   ],
   "source": [
    "maxAsian = df.where(df['WHO Region'] == 'South-East Asia') \\\n",
    "    .select(\"Cases - cumulative total\") \\\n",
    "    .rdd \\\n",
    "    .max()\n",
    "    \n",
    "maxAsian"
   ]
  },
  {
   "cell_type": "code",
   "execution_count": 17,
   "metadata": {},
   "outputs": [
    {
     "data": {
      "text/plain": [
       "[Row(Name='Bangladesh', Cases - cumulative total='800,540.000'),\n",
       " Row(Name='Bhutan', Cases - cumulative total='1,620.000'),\n",
       " Row(Name=\"Democratic People's Republic of Korea\", Cases - cumulative total='0.000')]"
      ]
     },
     "execution_count": 17,
     "metadata": {},
     "output_type": "execute_result"
    }
   ],
   "source": [
    "three_min = df.where(df['WHO Region'] == 'South-East Asia') \\\n",
    "    .select(\"Name\",'Cases - cumulative total') \\\n",
    "    .rdd \\\n",
    "    .takeOrdered(3, key=lambda x: x[0])\n",
    "    \n",
    "three_min "
   ]
  }
 ],
 "metadata": {
  "kernelspec": {
   "display_name": "py3_9",
   "language": "python",
   "name": "python3"
  },
  "language_info": {
   "codemirror_mode": {
    "name": "ipython",
    "version": 3
   },
   "file_extension": ".py",
   "mimetype": "text/x-python",
   "name": "python",
   "nbconvert_exporter": "python",
   "pygments_lexer": "ipython3",
   "version": "3.9.21"
  }
 },
 "nbformat": 4,
 "nbformat_minor": 2
}
