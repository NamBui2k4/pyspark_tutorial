{
 "cells": [
  {
   "cell_type": "markdown",
   "metadata": {},
   "source": [
    "# Problems in pyspark 📝🔍"
   ]
  },
  {
   "cell_type": "markdown",
   "metadata": {},
   "source": [
    "PySpark là một công cụ mạnh mẽ để xử lý các bài toán dữ liệu lớn. Sau đây là một vài bài toán kinh điển:\n",
    "\n",
    "- wordcount\n",
    "- ASEAN countries count"
   ]
  },
  {
   "cell_type": "markdown",
   "metadata": {},
   "source": [
    "## WordCount 📊"
   ]
  },
  {
   "cell_type": "markdown",
   "metadata": {},
   "source": [
    "Cho một chuỗi, yêu cầu đếm từng ký tự trong chuỗi đó."
   ]
  },
  {
   "cell_type": "markdown",
   "metadata": {},
   "source": [
    "Solution:"
   ]
  },
  {
   "cell_type": "code",
   "execution_count": 28,
   "metadata": {},
   "outputs": [
    {
     "data": {
      "text/plain": [
       "[('Apache', 2),\n",
       " ('implicit', 1),\n",
       " ('developed', 1),\n",
       " ('of', 1),\n",
       " ('codebase', 1),\n",
       " ('and', 1),\n",
       " ('later', 1),\n",
       " ('to', 1),\n",
       " ('Software', 1),\n",
       " ('has', 1),\n",
       " ('open-source', 1),\n",
       " ('unified', 1),\n",
       " ('clusters', 1),\n",
       " ('at', 1),\n",
       " ('University', 1),\n",
       " (\"Berkeley's\", 1),\n",
       " ('for', 2),\n",
       " ('processing.', 1),\n",
       " ('with', 1),\n",
       " ('California,', 1),\n",
       " ('it', 1),\n",
       " ('since.', 1),\n",
       " ('analytics', 1),\n",
       " ('engine', 1),\n",
       " ('fault', 1),\n",
       " ('large-scale', 1),\n",
       " ('parallelism', 1),\n",
       " ('tolerance.', 1),\n",
       " ('maintained', 1),\n",
       " ('Spark', 3),\n",
       " ('programming', 1),\n",
       " ('data', 2),\n",
       " ('Originally', 1),\n",
       " ('donated', 1),\n",
       " ('Foundation,', 1),\n",
       " ('an', 2),\n",
       " ('provides', 1),\n",
       " ('was', 1),\n",
       " ('the', 3),\n",
       " ('which', 1),\n",
       " ('is', 1),\n",
       " ('AMPLab,', 1),\n",
       " ('interface', 1)]"
      ]
     },
     "execution_count": 28,
     "metadata": {},
     "output_type": "execute_result"
    }
   ],
   "source": [
    "doc = \"Apache Spark is an open-source unified analytics engine for large-scale data processing. Spark provides an interface for programming clusters with implicit data parallelism and fault tolerance. Originally developed at the University of California, Berkeley's AMPLab, the Spark codebase was later donated to the Apache Software Foundation, which has maintained it since.\"\n",
    "\n",
    "result = sc.parallelize([doc]) \\\n",
    "    .flatMap(lambda x : x.split(\" \")) \\\n",
    "    .map(lambda x: (x, 1)) \\\n",
    "    .reduceByKey(lambda x, y : x + y) \\\n",
    "    .collect()\n",
    "result"
   ]
  },
  {
   "cell_type": "markdown",
   "metadata": {},
   "source": [
    "Giải thích chi tiết:\n",
    "\n",
    "- `sc.parallelize` sẽ bao bọc `doc` trong `list`, đảm bảo rằng RDD có một phần tử là toàn bộ chuỗi.\n",
    "- áp dụng `flatMap` lên chuỗi đó, đi kèm `split` để tách thành một `list` các từ, sau đó “làm phẳng” `list` này thành một RDD chứa các từ.\n",
    "  \n",
    "  Ví dụ, khi chạy thì kết quả sẽ là: \n",
    "  ```python\n",
    "  [\"Apache\", \"Spark\", \"is\", \"an\", \"open-source\", \"unified\", \"analytics\", \"engine\", \"for\", \"large-scale\", \"data\", \"processing.\", \"Spark\", \"provides\", \"an\", \"interface\", \"for\", \"programming\", \"clusters\", \"with\", \"implicit\", \"data\", \"parallelism\", \"and\", \"fault\", \"tolerance.\"]\n",
    "  ```\n",
    "\n",
    "\n",
    "- `map` chuyển đổi mỗi từ trong RDD thành một tuple có định dạng `word, count)`\n",
    "\n",
    "    Ví dụ:\n",
    "\n",
    "    ```python\n",
    "    [(\"Apache\", 1), (\"Spark\", 1), (\"is\", 1), (\"an\", 1),\n",
    "    (\"open-source\", 1), (\"unified\", 1), (\"analytics\", 1), \n",
    "    (\"engine\", 1), (\"for\", 1), (\"large-scale\", 1), (\"data\", 1), \n",
    "    (\"processing.\", 1), (\"Spark\", 1), (\"provides\", 1), \n",
    "    (\"an\", 1), (\"interface\", 1), (\"for\", 1), (\"programming\", 1),\n",
    "    (\"clusters\", 1), (\"with\", 1), (\"implicit\", 1), (\"data\", 1),\n",
    "    (\"parallelism\", 1), (\"and\", 1), (\"fault\", 1), (\"tolerance.\", 1)]\n",
    "\n",
    "    ```\n",
    "- Sau đó, `reduceByKey` nhóm các tuple theo key word và áp dụng hàm lambda để cộng dồn count lại cho mỗi từ\n",
    "\n",
    "    Quá trình xử lý như sau:\n",
    "\n",
    "    + Nhóm lại:\n",
    "    \n",
    "        ```python\n",
    "        {\n",
    "        \"Spark\": [1, 1],\n",
    "        \"is\": [1, 1],\n",
    "        \"an\": [1, 1],\n",
    "        \"open-source\": [1]\n",
    "        ....................\n",
    "        }\n",
    "        ```\n",
    "    + Áp dụng hàm lambda x, y: x + y cho mỗi nhóm:\n",
    "    \n",
    "        ```python\n",
    "        \"Spark\": 1 + 1 = 2\n",
    "        \"is\": 1 + 1 = 2\n",
    "        \"an\": 1 + 1 = 2\n",
    "        \"open-source\": 1 (không thay đổi vì chỉ có một phần tử)\n",
    "        ......................\n",
    "        ```\n",
    "\n",
    "Kết quả là chúng ta có tần xuất với từng từ.\n",
    "\n",
    "Đặt vấn đề: Ở bước reduce, ta thấy một vài word có count = 1 và xuất hiện 2 lần nên ta hiểu rằng x + y chính là 1 + 1. Bởi vì 2 chính là số lượng phần tử cùng key. Vậy thì nếu số lượng này lớn hơn 2 thì sao ? Chẳng hạn như:\n",
    "\n",
    "```python\n",
    "{\n",
    "    \"Spark\": [1, 1, 1],\n",
    "    \"is\": [1, 1],\n",
    "    \"an\": [1, 1]\n",
    "}\n",
    "```\n",
    "Nếu số lượng phần tử cùng key lớn hơn 2, PySpark sẽ tự động áp dụng phép toán nhiều lần để gộp tất cả giá trị về một kết quả duy nhất.\n",
    "\n",
    "Như vậy, việc áp dụng lambda x, y: x + y cho từng nhóm sẽ được hình dung như sau:\n",
    "\n",
    "```python\n",
    "\"Spark\":\n",
    "    1 + 1 = 2\n",
    "    2 + 1 = 3\n",
    "\n",
    "\"is\": \n",
    "    1 + 1 = 2\n",
    "    \n",
    "\"an\":\n",
    "    1 + 1 = 2\n",
    "```\n",
    "\n",
    "Kết quả cuối cùng: ```[(\"Spark\", 3), (\"is\", 2), (\"an\", 2)]```"
   ]
  },
  {
   "cell_type": "markdown",
   "metadata": {},
   "source": [
    "## ASEAN countries count 📊"
   ]
  },
  {
   "cell_type": "markdown",
   "metadata": {},
   "source": [
    "Cho một file dữ liệu `WHO-COVID-19-20210601-213841.tsv` chứa các trường sau:\n",
    "- Name \n",
    "- WHO Region \n",
    "- Cases - cumulative total \n",
    "- Cases - cumulative total per 100000 population \n",
    "- Cases - newly reported in last 7 days \n",
    "- Cases - newly reported in last 7 days per 100000 population \n",
    "- Cases - newly reported in last 24 hours \n",
    "- Deaths - cumulative total \n",
    "- Deaths - cumulative total per 100000 population \n",
    "- Deaths - newly reported in last 7 days \n",
    "- Deaths - newly reported in last 7 days per 100000 population \n",
    "- Deaths - newly reported in last 24 hours \n",
    "- Transmission Classification\n",
    "\n",
    "Dựa vào cột Cases - cumulative total , yêu cầu: \n",
    "- Đếm xem có bao nhiêu quốc gia ở khu vực Châu Á bị nhiễm Covid\n",
    "- Chỉ ra quốc gia có tổng số ca lớn nhất ở khu vực này\n",
    "- Lấy ra 3 quốc gia có tổng số ca nhỏ nhất"
   ]
  },
  {
   "cell_type": "code",
   "execution_count": 9,
   "metadata": {},
   "outputs": [
    {
     "name": "stderr",
     "output_type": "stream",
     "text": [
      "c:\\Users\\nam\\anaconda3\\envs\\py3_9\\lib\\site-packages\\pyspark\\sql\\context.py:113: FutureWarning: Deprecated in 3.0.0. Use SparkSession.builder.getOrCreate() instead.\n",
      "  warnings.warn(\n"
     ]
    }
   ],
   "source": [
    "import pyspark\n",
    "from pyspark.sql import SparkSession\n",
    "from pyspark.sql import SQLContext\n",
    "\n",
    "spark = SparkSession.builder.appName(\"Spark Asean count\").getOrCreate()\n",
    "sc = spark.sparkContext\n",
    "sqlc = SQLContext(sc)"
   ]
  },
  {
   "cell_type": "code",
   "execution_count": 10,
   "metadata": {},
   "outputs": [
    {
     "name": "stdout",
     "output_type": "stream",
     "text": [
      "+--------------------+--------------------+------------------------+----------------------------------------------+-------------------------------------+-----------------------------------------------------------+---------------------------------------+-------------------------+-----------------------------------------------+--------------------------------------+------------------------------------------------------------+----------------------------------------+---------------------------+\n",
      "|                Name|          WHO Region|Cases - cumulative total|Cases - cumulative total per 100000 population|Cases - newly reported in last 7 days|Cases - newly reported in last 7 days per 100000 population|Cases - newly reported in last 24 hours|Deaths - cumulative total|Deaths - cumulative total per 100000 population|Deaths - newly reported in last 7 days|Deaths - newly reported in last 7 days per 100000 population|Deaths - newly reported in last 24 hours|Transmission Classification|\n",
      "+--------------------+--------------------+------------------------+----------------------------------------------+-------------------------------------+-----------------------------------------------------------+---------------------------------------+-------------------------+-----------------------------------------------+--------------------------------------+------------------------------------------------------------+----------------------------------------+---------------------------+\n",
      "|              Global|                   -|         170,363,852.000|                                     2,182.386|                        3,383,026.000|                                                     43.337|                            358,691.000|            3,546,870.000|                                         45.436|                            76,025.000|                                                       0.974|                               7,370.000|                       NULL|\n",
      "|United States of ...|            Americas|          32,929,178.000|                                     9,948.310|                          131,305.000|                                                     39.670|                                  0.000|              588,596.000|                                        177.820|                             3,896.000|                                                       1.180|                                   0.000|       Community transmi...|\n",
      "|               India|     South-East Asia|          28,175,044.000|                                     2,041.660|                        1,226,170.000|                                                     88.850|                            127,510.000|              331,895.000|                                         24.050|                            24,664.000|                                                       1.790|                               2,795.000|          Clusters of cases|\n",
      "|              Brazil|            Americas|          16,515,120.000|                                     7,769.650|                          431,862.000|                                                    203.170|                             43,520.000|              461,931.000|                                        217.320|                            12,863.000|                                                       6.050|                                 874.000|       Community transmi...|\n",
      "|              France|              Europe|           5,566,214.000|                                     8,558.220|                           59,437.000|                                                     91.390|                              8,541.000|              108,558.000|                                        166.910|                               756.000|                                                       1.160|                                  15.000|       Community transmi...|\n",
      "|              Turkey|              Europe|           5,242,911.000|                                     6,216.470|                           56,424.000|                                                     66.900|                              6,933.000|               47,405.000|                                         56.210|                             1,137.000|                                                       1.350|                                 134.000|       Community transmi...|\n",
      "|  Russian Federation|              Europe|           5,071,917.000|                                     3,475.480|                           62,006.000|                                                     42.490|                              8,475.000|              121,501.000|                                         83.260|                             2,700.000|                                                       1.850|                                 339.000|          Clusters of cases|\n",
      "|  The United Kingdom|              Europe|           4,484,060.000|                                     6,605.280|                           21,518.000|                                                     31.700|                              3,111.000|              127,781.000|                                        188.230|                                60.000|                                                       0.090|                                   6.000|       Community transmi...|\n",
      "|               Italy|              Europe|           4,216,003.000|                                     7,068.910|                           23,820.000|                                                     39.940|                              2,948.000|              126,046.000|                                        211.340|                               821.000|                                                       1.380|                                  44.000|          Clusters of cases|\n",
      "|           Argentina|            Americas|           3,753,609.000|                                     8,305.220|                          214,125.000|                                                    473.770|                             21,346.000|               77,456.000|                                        171.380|                             3,393.000|                                                       7.510|                                 348.000|       Community transmi...|\n",
      "|             Germany|              Europe|           3,681,126.000|                                     4,426.200|                           29,486.000|                                                     35.450|                              1,978.000|               88,442.000|                                        106.340|                             1,019.000|                                                       1.230|                                  36.000|       Community transmi...|\n",
      "|               Spain|              Europe|           3,663,176.000|                                     7,739.220|                           13,502.000|                                                     28.530|                                  0.000|               79,888.000|                                        168.780|                                54.000|                                                       0.110|                                   0.000|       Community transmi...|\n",
      "|            Colombia|            Americas|           3,383,279.000|                                     6,649.150|                          150,823.000|                                                    296.410|                             20,218.000|               88,282.000|                                        173.500|                             3,558.000|                                                       6.990|                                 535.000|       Community transmi...|\n",
      "|Iran (Islamic Rep...|Eastern Mediterra...|           2,913,136.000|                                     3,468.310|                           69,613.000|                                                     82.880|                             11,042.000|               80,156.000|                                         95.430|                             1,308.000|                                                       1.560|                                 217.000|       Community transmi...|\n",
      "|              Poland|              Europe|           2,872,283.000|                                     7,566.980|                            6,102.000|                                                     16.080|                                333.000|               73,745.000|                                        194.280|                               800.000|                                                       2.110|                                   7.000|       Community transmi...|\n",
      "|              Mexico|            Americas|           2,412,810.000|                                     1,871.370|                           16,206.000|                                                     12.570|                              1,307.000|              223,507.000|                                        173.350|                             1,860.000|                                                       1.440|                                  52.000|       Community transmi...|\n",
      "|             Ukraine|              Europe|           2,202,494.000|                                     5,036.140|                           18,639.000|                                                     42.620|                              1,022.000|               50,536.000|                                        115.550|                             1,100.000|                                                       2.520|                                  64.000|       Community transmi...|\n",
      "|                Peru|            Americas|           1,955,469.000|                                     5,930.720|                           30,180.000|                                                     91.530|                              3,818.000|               69,342.000|                                        210.310|                             1,289.000|                                                       3.910|                                 140.000|       Community transmi...|\n",
      "|           Indonesia|     South-East Asia|           1,821,703.000|                                       666.010|                           40,576.000|                                                     14.830|                              5,662.000|               50,578.000|                                         18.490|                             1,123.000|                                                       0.410|                                 174.000|       Community transmi...|\n",
      "|        South Africa|              Africa|           1,662,825.000|                                     2,803.680|                           27,360.000|                                                     46.130|                              3,755.000|               56,439.000|                                         95.160|                               637.000|                                                       1.070|                                  76.000|       Community transmi...|\n",
      "+--------------------+--------------------+------------------------+----------------------------------------------+-------------------------------------+-----------------------------------------------------------+---------------------------------------+-------------------------+-----------------------------------------------+--------------------------------------+------------------------------------------------------------+----------------------------------------+---------------------------+\n",
      "only showing top 20 rows\n",
      "\n"
     ]
    }
   ],
   "source": [
    "df = sqlc.read.csv(\"WHO-COVID-19-20210601-213841.tsv\",\n",
    "                   header=True,\n",
    "                   sep=\"\\t\")\n",
    "\n",
    "df.show()"
   ]
  },
  {
   "cell_type": "code",
   "execution_count": 11,
   "metadata": {},
   "outputs": [
    {
     "data": {
      "text/plain": [
       "11"
      ]
     },
     "execution_count": 11,
     "metadata": {},
     "output_type": "execute_result"
    }
   ],
   "source": [
    "asianCount = df.where(df['WHO Region'] == 'South-East Asia') \\\n",
    "    .select(\"Cases - cumulative total\") \\\n",
    "    .rdd.count()\n",
    "     \n",
    "asianCount"
   ]
  },
  {
   "cell_type": "code",
   "execution_count": 12,
   "metadata": {},
   "outputs": [
    {
     "data": {
      "text/plain": [
       "Row(Cases - cumulative total='800,540.000')"
      ]
     },
     "execution_count": 12,
     "metadata": {},
     "output_type": "execute_result"
    }
   ],
   "source": [
    "maxAsian = df.where(df['WHO Region'] == 'South-East Asia') \\\n",
    "    .select(\"Cases - cumulative total\") \\\n",
    "    .rdd \\\n",
    "    .max()\n",
    "    \n",
    "maxAsian"
   ]
  },
  {
   "cell_type": "code",
   "execution_count": 17,
   "metadata": {},
   "outputs": [
    {
     "data": {
      "text/plain": [
       "[Row(Name='Bangladesh', Cases - cumulative total='800,540.000'),\n",
       " Row(Name='Bhutan', Cases - cumulative total='1,620.000'),\n",
       " Row(Name=\"Democratic People's Republic of Korea\", Cases - cumulative total='0.000')]"
      ]
     },
     "execution_count": 17,
     "metadata": {},
     "output_type": "execute_result"
    }
   ],
   "source": [
    "three_min = df.where(df['WHO Region'] == 'South-East Asia') \\\n",
    "    .select(\"Name\",'Cases - cumulative total') \\\n",
    "    .rdd \\\n",
    "    .takeOrdered(3, key=lambda x: x[0])\n",
    "    \n",
    "three_min "
   ]
  }
 ],
 "metadata": {
  "kernelspec": {
   "display_name": "py3_9",
   "language": "python",
   "name": "python3"
  },
  "language_info": {
   "codemirror_mode": {
    "name": "ipython",
    "version": 3
   },
   "file_extension": ".py",
   "mimetype": "text/x-python",
   "name": "python",
   "nbconvert_exporter": "python",
   "pygments_lexer": "ipython3",
   "version": "3.9.21"
  }
 },
 "nbformat": 4,
 "nbformat_minor": 2
}
