{
  "cells": [
    {
      "cell_type": "markdown",
      "metadata": {
        "id": "EKhANDPI2-YD"
      },
      "source": [
        "# Pyspark tutorial 🎯"
      ]
    },
    {
      "cell_type": "markdown",
      "metadata": {
        "id": "2y9ghrep9ckQ"
      },
      "source": [
        "**Ghi chú: tutorial này được thực hiện trên google colab nên không bị lỗi khi chạy code. Nếu chạy trên local machine chắc chắn sẽ lỗi. Mặc dù đã mò mẫm cả tuần nhưng vẫn không có giải pháp nào cho vấn đề này nên mình chấp nhận thực hiện nó trên google colab. 🤷‍♂️**"
      ]
    },
    {
      "cell_type": "markdown",
      "metadata": {
        "id": "J-Cj9XV-2-YF"
      },
      "source": [
        "## Installation ⬇️"
      ]
    },
    {
      "cell_type": "markdown",
      "metadata": {
        "id": "-GFFs2FY2-YF"
      },
      "source": [
        "Để làm việc với spark, chúng ta cần cài đặt các thành phần sau:"
      ]
    },
    {
      "cell_type": "markdown",
      "metadata": {
        "id": "477uUkwe2-YF"
      },
      "source": [
        "- 📌 Java (OpenJDK 8 hoặc 11):\n",
        "  \n",
        "  <details><summary>Xài ubuntu hoặc các nền tảng như Google Colab thì chạy lệnh này:</summary>\n",
        "      👉\n",
        "      <code>!apt-get install openjdk-8-jdk-headless -qq > /dev/null</code>\n",
        "    </details><br>\n",
        "\n",
        "  <details>\n",
        "      <summary>Nếu xài window thì vào đây tải cho lẹ:</summary>\n",
        "      👉 <a href=\"https://www.oracle.com/java/technologies/javase/javase8-archive-downloads.html\" target=\"_blank\"> www.oracle.com </a>\n",
        "    </details>"
      ]
    },
    {
      "cell_type": "markdown",
      "metadata": {
        "id": "wvamacLl2-YF"
      },
      "source": [
        "- 📌 Apache Spark\n",
        "\n",
        "  <details><summary>Nếu xài Ubuntu hoặc Google Colab</summary><br>\n",
        "    👉 <code>wget https://downloads.apache.org/spark/spark-3.5.4/spark-3.5.4-bin-hadoop3.tgz</code>\n",
        "\n",
        "    👉 <code>tar -xvzf spark-3.5.4-bin-hadoop3.tgz</code>\n",
        "\n",
        "    👉 <code>sudo mv spark-3.5.4-bin-hadoop3 /opt/spark</code>\n",
        "    \n",
        "    🔧 Thiết lập biến môi trường như sau:\n",
        "\n",
        "    Với ubuntu:\n",
        "    ```\n",
        "    echo \"export SPARK_HOME=/opt/spark\" >> ~/.bashrc\n",
        "    echo \"export PATH=$SPARK_HOME/bin:$PATH\" >> ~/.bashrc\n",
        "    source ~/.bashrc\n",
        "\n",
        "    ```\n",
        "    Với google colab:\n",
        "\n",
        "    ```\n",
        "    import os\n",
        "    os.environ[\"JAVA_HOME\"] = \"/usr/lib/jvm/java-8-openjdk-amd64\"\n",
        "    os.environ[\"SPARK_HOME\"] = \"/content/spark-3.5.4-bin-hadoop3\"\n",
        "\n",
        "    ```\n",
        "    </details><br>\n",
        "\n",
        "  <details><summary>Nếu xài window thì:</summary><br>\n",
        "    👉 Tải thủ công tại <a href=\"https://spark.apache.org/downloads.html\" target=\"_blank\"> spark.apache.org </a>\n",
        "\n",
        "    👉 Rồi giải nén thủ công, có thể đặt ở đâu đó cũng được. Ví dụ: `C:\\spark\\spark-3.5.4-bin-hadoop3`,\n",
        "\n",
        "    👉 Thiết lập biến môi trường thủ công, nhớ thêm tên môi trường (chẳng hạn `$SPARK_HOME`)\n",
        "    \n",
        "    🚀 Kham khảo chi tiết tại: <a href=\"https://www.datacamp.com/tutorialpyspark-tutorial-getting-started-with-pyspark\" target=\"_blank\">pyspark-tutorial</a>\n",
        "\n",
        "    </details>\n",
        "  "
      ]
    },
    {
      "cell_type": "markdown",
      "metadata": {
        "id": "M-D7dd0y2-YG"
      },
      "source": [
        "- 📌 pyspark"
      ]
    },
    {
      "cell_type": "code",
      "execution_count": null,
      "metadata": {
        "colab": {
          "base_uri": "https://localhost:8080/"
        },
        "id": "iHxirntQ2-YG",
        "outputId": "cd666f86-0393-4b21-ec90-e056885201bf"
      },
      "outputs": [
        {
          "name": "stdout",
          "output_type": "stream",
          "text": [
            "Requirement already satisfied: pyspark in /usr/local/lib/python3.11/dist-packages (3.5.4)\n",
            "Requirement already satisfied: py4j==0.10.9.7 in /usr/local/lib/python3.11/dist-packages (from pyspark) (0.10.9.7)\n"
          ]
        }
      ],
      "source": [
        "!pip install pyspark"
      ]
    },
    {
      "cell_type": "markdown",
      "metadata": {
        "id": "0i6VQ3wE2-YG"
      },
      "source": [
        "- 📌 findspark - tùy chọn, nếu chạy trên Google Colab"
      ]
    },
    {
      "cell_type": "code",
      "execution_count": null,
      "metadata": {
        "colab": {
          "base_uri": "https://localhost:8080/"
        },
        "id": "eVLN3of82-YH",
        "outputId": "bb0a5431-2dab-443d-f9ef-b056664f9b65"
      },
      "outputs": [
        {
          "name": "stdout",
          "output_type": "stream",
          "text": [
            "Requirement already satisfied: findspark in /usr/local/lib/python3.11/dist-packages (2.0.1)\n"
          ]
        }
      ],
      "source": [
        "!pip install findspark"
      ]
    },
    {
      "cell_type": "markdown",
      "metadata": {
        "id": "P8Jo6rOf2-YH"
      },
      "source": [
        "## SparkSession 🔥"
      ]
    },
    {
      "cell_type": "markdown",
      "metadata": {
        "id": "o6VlbveA2-YH"
      },
      "source": [
        "Apache Spark là một hệ thống phân tán, chạy trên nhiều node. Để tương tác với spark, chúng ta cần một thứ gọi là \"điểm khởi đầu\" (Entry point). Trong trường hợp này chính là SparkSession. SparkSession giống như cửa chính của một tòa nhà, giúp bạn truy cập vào các thành phần bên trong."
      ]
    },
    {
      "cell_type": "code",
      "execution_count": null,
      "metadata": {
        "id": "7YmADrJF2-YH"
      },
      "outputs": [],
      "source": [
        "# khởi tạo SparkSession\n",
        "from pyspark.sql import SparkSession\n",
        "spark = SparkSession.builder \\\n",
        "    .appName(\"Datacamp Pyspark Tutorial\") \\\n",
        "    .config(\"spark.memory.offHeap.enabled\",\"true\") \\\n",
        "    .config(\"spark.memory.offHeap.size\",\"10g\").getOrCreate()\n"
      ]
    },
    {
      "cell_type": "code",
      "execution_count": null,
      "metadata": {
        "id": "CbkhNJQ52-YH"
      },
      "outputs": [],
      "source": [
        "# Dừng SparkSession khi cần thiết\n",
        "# spark.stop()"
      ]
    },
    {
      "cell_type": "markdown",
      "metadata": {
        "id": "-VvnNMdM2-YH"
      },
      "source": [
        "## SparkContext 🔥"
      ]
    },
    {
      "cell_type": "markdown",
      "metadata": {
        "id": "DAuKglvr2-YH"
      },
      "source": [
        "🔹SparkContext là lớp cốt lõi trong Apache Spark, giúp ứng dụng của bạn kết nối với Spark Cluster và quản lý các tác vụ tính toán.\n",
        "\n",
        "🔹Trước Spark 2.x, SparkContext là entry point chính.\n",
        "\n",
        "🔹Từ Spark 2.x trở đi, SparkSession thay thế SparkContext, nhưng SparkContext vẫn tồn tại bên trong SparkSession."
      ]
    },
    {
      "cell_type": "code",
      "execution_count": null,
      "metadata": {
        "id": "iS3Alc0L2-YH"
      },
      "outputs": [],
      "source": [
        "from pyspark import SparkContext\n",
        "\n",
        "# Khởi tạo sparkContext\n",
        "# sc = SparkContext(\"local\", \"MyApp\")\n",
        "# print(sc)"
      ]
    },
    {
      "cell_type": "markdown",
      "metadata": {
        "id": "FS9Ns5_l2-YI"
      },
      "source": [
        "🔹Lưu ý: sparkContext chỉ khởi tạo một lần\n",
        "\n",
        "🔹Chạy lần 2 bị báo lỗi `Cannot run multiple SparkContexts at once; existing SparkContext`\n",
        "\n",
        "🔹Có thể khắc phục bằng 2 cách:\n",
        "    🔸Dừng sparkContext,\n",
        "    🔸Lấy sparkContext hiện có"
      ]
    },
    {
      "cell_type": "code",
      "execution_count": null,
      "metadata": {
        "colab": {
          "base_uri": "https://localhost:8080/",
          "height": 198
        },
        "id": "4gq70-rV2-YI",
        "outputId": "700afc34-6b5e-466b-8b0f-bf466f6139a5"
      },
      "outputs": [
        {
          "data": {
            "text/html": [
              "\n",
              "        <div>\n",
              "            <p><b>SparkContext</b></p>\n",
              "\n",
              "            <p><a href=\"http://c0c46f3aa479:4040\">Spark UI</a></p>\n",
              "\n",
              "            <dl>\n",
              "              <dt>Version</dt>\n",
              "                <dd><code>v3.5.4</code></dd>\n",
              "              <dt>Master</dt>\n",
              "                <dd><code>local[*]</code></dd>\n",
              "              <dt>AppName</dt>\n",
              "                <dd><code>Datacamp Pyspark Tutorial</code></dd>\n",
              "            </dl>\n",
              "        </div>\n",
              "        "
            ],
            "text/plain": [
              "<SparkContext master=local[*] appName=Datacamp Pyspark Tutorial>"
            ]
          },
          "execution_count": 6,
          "metadata": {},
          "output_type": "execute_result"
        }
      ],
      "source": [
        "# kiểm tra có SparkContext nào đang chạy không\n",
        "SparkContext._active_spark_context"
      ]
    },
    {
      "cell_type": "code",
      "execution_count": null,
      "metadata": {
        "id": "PUeyajYs2-YI"
      },
      "outputs": [],
      "source": [
        "# Dừng SparkContext khi cần thiết\n",
        "# sc.stop()\n",
        "\n",
        "# Sau đó tạo mới\n",
        "# sc = SparkContext(\"local\", \"MyApp\")\n",
        "# print(sc)\n",
        "\n",
        "# Lưu ý: Không gọi sc.stop() nếu biến sc chưa tồn tại. Lúc đó phải chạy lệnh bên dưới"
      ]
    },
    {
      "cell_type": "code",
      "execution_count": null,
      "metadata": {
        "id": "1Y93vaZH2-YI"
      },
      "outputs": [],
      "source": [
        "# Lấy SparkContext hiện có từ SparkSession\n",
        "sc = spark.sparkContext\n",
        "# print(sc)"
      ]
    },
    {
      "cell_type": "markdown",
      "metadata": {
        "id": "3rFZdy_I2-YI"
      },
      "source": [
        "## RDD (Resilient Distributed Dataset) 🔥\n",
        "\n",
        "RDD (Resilient Distributed Dataset) là cấu trúc dữ liệu cốt lõi của Apache Spark, đại diện cho một tập dữ liệu phân tán có thể chịu lỗi và xử lý song song. Đây là cấp độ trừu tượng thấp nhất trong Spark, cung cấp nền tảng cho các API cấp cao hơn như DataFrame và Dataset."
      ]
    },
    {
      "cell_type": "code",
      "execution_count": null,
      "metadata": {
        "colab": {
          "base_uri": "https://localhost:8080/"
        },
        "id": "yzOKzzog2-YI",
        "outputId": "b712dcfc-2e1b-41b4-fb23-2dc93c0edabf"
      },
      "outputs": [
        {
          "name": "stdout",
          "output_type": "stream",
          "text": [
            "['Scalar', 'java', 'hadoop', 'spark', 'akka', 'spark and hadoop', 'pyspark', 'pyspark and spark']\n",
            "<class 'list'>\n"
          ]
        }
      ],
      "source": [
        "words = [\n",
        "    'Scalar',\n",
        "    'java',\n",
        "    'hadoop',\n",
        "    'spark',\n",
        "    'akka',\n",
        "    'spark and hadoop',\n",
        "    'pyspark',\n",
        "    'pyspark and spark'\n",
        "]\n",
        "\n",
        "print(words)\n",
        "print(type(words))"
      ]
    },
    {
      "cell_type": "code",
      "execution_count": null,
      "metadata": {
        "colab": {
          "base_uri": "https://localhost:8080/"
        },
        "id": "Ym4CpQyl2-YI",
        "outputId": "8740cbce-fc9a-45d3-fd21-0ad8296ca4c8"
      },
      "outputs": [
        {
          "name": "stdout",
          "output_type": "stream",
          "text": [
            "<class 'pyspark.rdd.RDD'>\n"
          ]
        }
      ],
      "source": [
        "rdd_words = sc.parallelize(words)\n",
        "print(type(rdd_words))"
      ]
    },
    {
      "cell_type": "code",
      "execution_count": null,
      "metadata": {
        "colab": {
          "base_uri": "https://localhost:8080/"
        },
        "id": "hsl6MInM2-YI",
        "outputId": "08fa1995-1212-48be-80b2-3ff3458e5dcc"
      },
      "outputs": [
        {
          "name": "stdout",
          "output_type": "stream",
          "text": [
            "8\n"
          ]
        }
      ],
      "source": [
        "print(rdd_words.count())"
      ]
    },
    {
      "cell_type": "markdown",
      "metadata": {
        "id": "FkV-sspxOyn7"
      },
      "source": [
        "**Thao tác với RDD 🪄**\n",
        "\n",
        "Các phép biến đổi trên RDD tạo ra RDD mới mà không thay đổi RDD ban đầu.\n",
        "Một số phép biến đổi phổ biến:\n",
        "\n",
        "- map(f): Áp dụng một hàm f lên từng phần tử.\n",
        "- filter(f): Lọc các phần tử thỏa mãn điều kiện f.\n",
        "- flatMap(f): Giống map(), nhưng mở rộng kết quả thành nhiều phần tử.\n",
        "- groupByKey(): Nhóm các phần tử có cùng khóa (key-value RDD).\n",
        "- reduceByKey(f): Kết hợp các giá trị có cùng khóa bằng một hàm f."
      ]
    },
    {
      "cell_type": "code",
      "execution_count": null,
      "metadata": {
        "id": "iInYad2pOyUf"
      },
      "outputs": [],
      "source": []
    }
  ],
  "metadata": {
    "colab": {
      "provenance": []
    },
    "kernelspec": {
      "display_name": "py3_9",
      "language": "python",
      "name": "python3"
    },
    "language_info": {
      "codemirror_mode": {
        "name": "ipython",
        "version": 3
      },
      "file_extension": ".py",
      "mimetype": "text/x-python",
      "name": "python",
      "nbconvert_exporter": "python",
      "pygments_lexer": "ipython3",
      "version": "3.9.21"
    }
  },
  "nbformat": 4,
  "nbformat_minor": 0
}
